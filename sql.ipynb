{
 "cells": [
  {
   "cell_type": "code",
   "execution_count": 6,
   "id": "b1df3aee-72c8-496a-a7ed-aa65894a9abf",
   "metadata": {},
   "outputs": [],
   "source": [
    "import psycopg2"
   ]
  },
  {
   "cell_type": "code",
   "execution_count": 8,
   "id": "4774fd46-fce9-4ff0-a018-0c73b33cd3fb",
   "metadata": {},
   "outputs": [],
   "source": [
    "#pip install psycopg2"
   ]
  },
  {
   "cell_type": "code",
   "execution_count": 12,
   "id": "a9cebf48-63c4-4589-8aca-aa8a6c06ea92",
   "metadata": {},
   "outputs": [],
   "source": [
    "con = psycopg2.connect(host='localhost', database='AulaSQL', user='postgres', password='birdscooter123', port=5432)"
   ]
  },
  {
   "cell_type": "code",
   "execution_count": 14,
   "id": "12565418-e1af-4b4f-9360-bf77368ef50c",
   "metadata": {},
   "outputs": [],
   "source": [
    "cursor = con.cursor()\n",
    "consulta = \"SELECT * FROM clientes\"\n",
    "cursor.execute(consulta)"
   ]
  },
  {
   "cell_type": "code",
   "execution_count": 16,
   "id": "3216d512-43e2-4369-a6fe-363ad1ffcd41",
   "metadata": {},
   "outputs": [],
   "source": [
    "registros = cursor.fetchall()"
   ]
  },
  {
   "cell_type": "code",
   "execution_count": null,
   "id": "7e9fb4d4-9ac1-4816-9ad4-e5af844fe6da",
   "metadata": {},
   "outputs": [],
   "source": [
    "for row in registros:\n",
    "    print(\"Nome = \", row[1], )\n",
    "    print(\"Estado = \", row[2])\n",
    "    print(\"Status = \", row[4], \"\\n\")"
   ]
  },
  {
   "cell_type": "code",
   "execution_count": 20,
   "id": "baa90687-bd9f-43cc-aa90-53227a9aaa0b",
   "metadata": {},
   "outputs": [],
   "source": [
    "cursor.close()\n",
    "con.close()"
   ]
  },
  {
   "cell_type": "code",
   "execution_count": null,
   "id": "dfd932e8-345a-4873-b087-20149089ddc3",
   "metadata": {},
   "outputs": [],
   "source": []
  }
 ],
 "metadata": {
  "kernelspec": {
   "display_name": "Python 3 (ipykernel)",
   "language": "python",
   "name": "python3"
  },
  "language_info": {
   "codemirror_mode": {
    "name": "ipython",
    "version": 3
   },
   "file_extension": ".py",
   "mimetype": "text/x-python",
   "name": "python",
   "nbconvert_exporter": "python",
   "pygments_lexer": "ipython3",
   "version": "3.12.3"
  }
 },
 "nbformat": 4,
 "nbformat_minor": 5
}
