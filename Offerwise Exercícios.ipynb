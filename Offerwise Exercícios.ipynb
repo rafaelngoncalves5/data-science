{
 "cells": [
  {
   "cell_type": "code",
   "execution_count": 61,
   "id": "ae22cf1d-952c-485f-8c38-4a007b2d6008",
   "metadata": {},
   "outputs": [
    {
     "name": "stdout",
     "output_type": "stream",
     "text": [
      "        *\n",
      "      * * *\n",
      "    * * * * *\n",
      "  * * * * * * *\n",
      "* * * * * * * * *\n"
     ]
    }
   ],
   "source": [
    "# 1- Criar uma função retorna o desenho de uma árvore derivando do tamanho passado. ex:. criarArvore(3)\n",
    "def tree_builder(size):\n",
    "    for x in range(size):\n",
    "        # Espaços\n",
    "        spaces = '  ' * (size - x - 1)\n",
    "        # Asteriscos\n",
    "        asterisks = ' '.join(['*'] * (2 * x + 1))\n",
    "        print(spaces + asterisks)\n",
    "    \n",
    "tree_builder(5)"
   ]
  },
  {
   "cell_type": "code",
   "execution_count": 215,
   "id": "8e8c4983-1764-4e77-ab5c-7ae002b486ea",
   "metadata": {},
   "outputs": [
    {
     "name": "stdout",
     "output_type": "stream",
     "text": [
      "0 + 1 = 1\n",
      "1 + 1 = 2\n",
      "1 + 2 = 3\n",
      "2 + 3 = 5\n",
      "3 + 5 = 8\n",
      "5 + 8 = 13\n",
      "8 + 13 = 21\n",
      "13 + 21 = 34\n"
     ]
    },
    {
     "data": {
      "text/plain": [
       "[0, 1, 1, 2, 3, 5, 8, 13, 21, 34]"
      ]
     },
     "execution_count": 215,
     "metadata": {},
     "output_type": "execute_result"
    }
   ],
   "source": [
    "# 2-Crie uma função que use recursividade para gerar a sequência de fibonacci.\n",
    "def fib(n, a=0, b=1, seq=None):\n",
    "    if n < 1:\n",
    "        print(\"Index out of range!\")\n",
    "        return\n",
    "    if seq is None:\n",
    "        seq = [a, b] if n > 1 else [a]\n",
    "\n",
    "    if len(seq) >= n:\n",
    "        for i in range(2, len(seq)):\n",
    "            print(f\"{seq[i-2]} + {seq[i-1]} = {seq[i]}\")\n",
    "        return seq\n",
    "\n",
    "    return fib(n, b, a + b, seq + [a + b])\n",
    "\n",
    "fib(10)"
   ]
  },
  {
   "cell_type": "code",
   "execution_count": 201,
   "id": "a3e36853-d714-4959-8da7-043a94934085",
   "metadata": {},
   "outputs": [
    {
     "name": "stdout",
     "output_type": "stream",
     "text": [
      "GONÇALVES,  R. N.\n"
     ]
    }
   ],
   "source": [
    "# 3-Crie uma função que dado um nome retorna a assinatura da pessoa\n",
    "def signature(name):\n",
    "    fullname = name.split(\" \")\n",
    "    try:\n",
    "        fname = fullname[0]\n",
    "        mname = fullname[1]\n",
    "        lname = fullname[-1]\n",
    "        print(lname.upper() + \", \", fname[0] + \".\", mname[0] + \".\")\n",
    "    except IndexError as e:\n",
    "        print(\"The name format is wrong, please follow the following pattern: FirstName MiddleName LastName\")\n",
    "\n",
    "signature('Rafael Nascimento Gonçalves')"
   ]
  },
  {
   "cell_type": "code",
   "execution_count": 239,
   "id": "3c84e264-f16d-4d0f-846c-adfcf129219f",
   "metadata": {},
   "outputs": [
    {
     "name": "stdout",
     "output_type": "stream",
     "text": [
      "5\n"
     ]
    }
   ],
   "source": [
    "# 4-Crie uma função que retorne a quantidade de dígitos em um número.\n",
    "def get_length(num):\n",
    "    num_str = str(num)\n",
    "    print(len(num_str))\n",
    "    num = int(num)\n",
    "\n",
    "get_length(\"11111\")"
   ]
  },
  {
   "cell_type": "code",
   "execution_count": 247,
   "id": "bc6dd4d2-2927-49b1-87b8-67ba92f7dd91",
   "metadata": {},
   "outputs": [
    {
     "name": "stdout",
     "output_type": "stream",
     "text": [
      "19 de Novembro de 2024\n"
     ]
    }
   ],
   "source": [
    "# 5-Crie uma função que receba uma data no formato DD/MM/AAAA e devolva uma string no formato D de mesPorExtenso de AAAA. Opcionalmente, valide a data e retorne NULL caso a data seja inválida.\n",
    "from datetime import datetime\n",
    "\n",
    "def format_date(dt):\n",
    "    months = [\n",
    "        \"Janeiro\", \"Fevereiro\", \"Março\", \"Abril\", \"Maio\", \"Junho\", \n",
    "        \"Julho\", \"Agosto\", \"Setembro\", \"Outubro\", \"Novembro\", \"Dezembro\"\n",
    "    ]\n",
    "    try:\n",
    "        date = datetime.strptime(dt, \"%d/%m/%Y\")\n",
    "        day = date.day\n",
    "        month = months[date.month -1]\n",
    "        year = date.year\n",
    "        return f\"{day} de {month} de {year}\"\n",
    "    except ValueError as e:\n",
    "        return None\n",
    "\n",
    "print(format_date(\"19/11/2024\"))"
   ]
  },
  {
   "cell_type": "code",
   "execution_count": 265,
   "id": "f4a514a6-a37c-4e40-93da-a2fbc59f0504",
   "metadata": {},
   "outputs": [
    {
     "name": "stdout",
     "output_type": "stream",
     "text": [
      "[2, 3, 5, 7, 11, 13, 17, 19]\n"
     ]
    }
   ],
   "source": [
    "# 6-Usando compresão de lista, list comprehension, crie uma função que retorna uma lista com os n primeiros primos solicitados.\n",
    "def lst_comp(n):\n",
    "    primes = [num for num in range(2, n+1) if all(num % i != 0 for i in range(2, int(num**0.5) + 1))]\n",
    "    return primes\n",
    "\n",
    "print(lst_comp(20))"
   ]
  },
  {
   "cell_type": "code",
   "execution_count": 275,
   "id": "2016dc49-9223-4762-a4fb-f011a65e2c32",
   "metadata": {},
   "outputs": [
    {
     "name": "stdout",
     "output_type": "stream",
     "text": [
      "Yes\n"
     ]
    }
   ],
   "source": [
    "# 7-Crie uma função que retorna se duas palavras são anagramas ou não\n",
    "def is_ang(word1, word2):\n",
    "    word1 = word1.replace(\" \",\"\").lower()\n",
    "    word2 = word2.replace(\" \", \"\").lower()\n",
    "\n",
    "    return  \"Yes\" if sorted(word1) == sorted(word2) else \"No\"\n",
    "\n",
    "print(is_ang(\"night\", \"thing\"))"
   ]
  },
  {
   "cell_type": "code",
   "execution_count": 7,
   "id": "e46e0e6b-cb70-4c45-9b1b-44d89f91588f",
   "metadata": {},
   "outputs": [
    {
     "name": "stdout",
     "output_type": "stream",
     "text": [
      "[[ 91  92  93  94  95  96  97  98  99 100]\n",
      " [ 90  73  74  75  76  77  78  79  80  81]\n",
      " [ 89  72  43  44  45  46  47  48  49  50]\n",
      " [ 88  71  42  21  22  23  24  25  26  51]\n",
      " [ 87  70  41  20   7   8   9  10  27  52]\n",
      " [ 86  69  40  19   6   1   2  11  28  53]\n",
      " [ 85  68  39  18   5   4   3  12  29  54]\n",
      " [ 84  67  38  17  16  15  14  13  30  55]\n",
      " [ 83  66  37  36  35  34  33  32  31  56]\n",
      " [ 82  65  64  63  62  61  60  59  58  57]]\n"
     ]
    }
   ],
   "source": [
    "'''\n",
    "[DESAFIO] Criar uma função que faça uma matriz espiral partindo do centro que deriva de acordo com o tamanho de voltas solicitadas.\n",
    "\n",
    "Foi bem difícil isso aqui 😱, precisei de ajuda aqui, se não, não conseguiria nem entender o problema...\n",
    "'''\n",
    "import numpy as np\n",
    "\n",
    "def generate_spiral(n):\n",
    "    matrix = np.zeros((n, n), dtype=int)  # Matriz de zeros\n",
    "    right = (0,1)\n",
    "    down = (1,0)\n",
    "    left = (0,-1)\n",
    "    up = (-1,0)\n",
    "    directions = [(0, 1), (1, 0), (0, -1), (-1, 0)]\n",
    "    \n",
    "    x, y = n // 2, n // 2  # Começando pelo centro da matriz com direções de eixo x e y\n",
    "    num = 1  # Primeiro número pra preencher\n",
    "    matrix[x, y] = num\n",
    "    num += 1\n",
    "    \n",
    "    steps = 1 # Passos\n",
    "    dir = 0 # Direção\n",
    "    \n",
    "    while num <= n * n:\n",
    "        for _ in range(2):\n",
    "            dx, dy = directions[dir]\n",
    "            for _ in range(steps):\n",
    "                x, y = x + dx, y + dy\n",
    "                if 0 <= x < n and 0 <= y < n:\n",
    "                    matrix[x, y] = num\n",
    "                    num += 1\n",
    "            dir = (dir + 1) % 4 # Muda direção\n",
    "        \n",
    "        steps += 1\n",
    "    \n",
    "    return matrix\n",
    "\n",
    "print(generate_spiral(10))"
   ]
  },
  {
   "cell_type": "code",
   "execution_count": null,
   "id": "b1c34ff2-740f-4a14-a6a5-31ed59ce440d",
   "metadata": {},
   "outputs": [],
   "source": []
  }
 ],
 "metadata": {
  "kernelspec": {
   "display_name": "Python 3 (ipykernel)",
   "language": "python",
   "name": "python3"
  },
  "language_info": {
   "codemirror_mode": {
    "name": "ipython",
    "version": 3
   },
   "file_extension": ".py",
   "mimetype": "text/x-python",
   "name": "python",
   "nbconvert_exporter": "python",
   "pygments_lexer": "ipython3",
   "version": "3.12.3"
  }
 },
 "nbformat": 4,
 "nbformat_minor": 5
}
