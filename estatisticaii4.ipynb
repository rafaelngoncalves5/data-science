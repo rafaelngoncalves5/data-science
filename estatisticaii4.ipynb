{
 "cells": [
  {
   "cell_type": "code",
   "execution_count": 4,
   "id": "00164aa3-f9bd-4e3d-b575-2f8768c5205d",
   "metadata": {},
   "outputs": [],
   "source": [
    "# Qui Quadrado\n",
    "import numpy as np\n",
    "from scipy.stats import chi2_contingency"
   ]
  },
  {
   "cell_type": "code",
   "execution_count": 6,
   "id": "9ee82977-11cf-4c33-bc39-e5cef8172b99",
   "metadata": {},
   "outputs": [
    {
     "data": {
      "text/plain": [
       "array([[19,  6],\n",
       "       [43, 32]])"
      ]
     },
     "execution_count": 6,
     "metadata": {},
     "output_type": "execute_result"
    }
   ],
   "source": [
    "novelas = np.array([[19,6], [43,32]])\n",
    "novelas"
   ]
  },
  {
   "cell_type": "code",
   "execution_count": 8,
   "id": "86f6ef18-afa2-4f45-8f2e-3335e3f47546",
   "metadata": {},
   "outputs": [
    {
     "data": {
      "text/plain": [
       "Chi2ContingencyResult(statistic=2.037351443123939, pvalue=0.15347667161786666, dof=1, expected_freq=array([[15.5,  9.5],\n",
       "       [46.5, 28.5]]))"
      ]
     },
     "execution_count": 8,
     "metadata": {},
     "output_type": "execute_result"
    }
   ],
   "source": [
    "'''\n",
    "Lembrando que o qui-quadrado é um teste de hipótese, onde\n",
    "h0 -> não existe diferença significativa além do acaso\n",
    "'''\n",
    "# > que 0.05, não há diferença significativa para rejeitar a hipótese\n",
    "chi2_contingency(novelas)"
   ]
  },
  {
   "cell_type": "code",
   "execution_count": 10,
   "id": "80566771-99b1-41d2-860a-6069a3c524eb",
   "metadata": {},
   "outputs": [
    {
     "data": {
      "text/plain": [
       "array([[22,  3],\n",
       "       [43, 32]])"
      ]
     },
     "execution_count": 10,
     "metadata": {},
     "output_type": "execute_result"
    }
   ],
   "source": [
    "novela2 = np.array([[22,3],[43,32]])\n",
    "novela2"
   ]
  },
  {
   "cell_type": "code",
   "execution_count": 12,
   "id": "a55594de-4905-4ffe-9b26-006ca7cc2852",
   "metadata": {},
   "outputs": [
    {
     "data": {
      "text/plain": [
       "Chi2ContingencyResult(statistic=6.461538461538461, pvalue=0.011023416388221425, dof=1, expected_freq=array([[16.25,  8.75],\n",
       "       [48.75, 26.25]]))"
      ]
     },
     "execution_count": 12,
     "metadata": {},
     "output_type": "execute_result"
    }
   ],
   "source": [
    "chi2_contingency(novela2)"
   ]
  },
  {
   "cell_type": "code",
   "execution_count": null,
   "id": "de43b2d8-05be-40b8-a42b-ebd93ddf3837",
   "metadata": {},
   "outputs": [],
   "source": [
    "# Menor que 0.05, logo podemos rejeitar a hipótese nula"
   ]
  }
 ],
 "metadata": {
  "kernelspec": {
   "display_name": "Python 3 (ipykernel)",
   "language": "python",
   "name": "python3"
  },
  "language_info": {
   "codemirror_mode": {
    "name": "ipython",
    "version": 3
   },
   "file_extension": ".py",
   "mimetype": "text/x-python",
   "name": "python",
   "nbconvert_exporter": "python",
   "pygments_lexer": "ipython3",
   "version": "3.12.4"
  }
 },
 "nbformat": 4,
 "nbformat_minor": 5
}
