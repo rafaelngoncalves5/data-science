{
 "cells": [
  {
   "cell_type": "code",
   "execution_count": 2,
   "id": "60bc3635-4fcb-4708-ad4c-421a5b9b64d9",
   "metadata": {},
   "outputs": [],
   "source": [
    "import pandas as pd"
   ]
  },
  {
   "cell_type": "code",
   "execution_count": 3,
   "id": "ceb53a56-65c8-4097-ae1a-3ab1dfebc1dd",
   "metadata": {},
   "outputs": [],
   "source": [
    "# pip install xlrd"
   ]
  },
  {
   "cell_type": "code",
   "execution_count": 4,
   "id": "8e01c71e-f82b-453b-80f6-5897e3b10843",
   "metadata": {},
   "outputs": [],
   "source": [
    "# pip install openpyxl"
   ]
  },
  {
   "cell_type": "code",
   "execution_count": 5,
   "id": "7017aa28-587d-432a-ac6c-8b0962432ce0",
   "metadata": {},
   "outputs": [
    {
     "data": {
      "text/html": [
       "<div>\n",
       "<style scoped>\n",
       "    .dataframe tbody tr th:only-of-type {\n",
       "        vertical-align: middle;\n",
       "    }\n",
       "\n",
       "    .dataframe tbody tr th {\n",
       "        vertical-align: top;\n",
       "    }\n",
       "\n",
       "    .dataframe thead th {\n",
       "        text-align: right;\n",
       "    }\n",
       "</style>\n",
       "<table border=\"1\" class=\"dataframe\">\n",
       "  <thead>\n",
       "    <tr style=\"text-align: right;\">\n",
       "      <th></th>\n",
       "      <th>Data</th>\n",
       "      <th>Tarefa</th>\n",
       "      <th>Cliente</th>\n",
       "      <th>Colaborador</th>\n",
       "      <th>Tipo de monitoramento</th>\n",
       "      <th>Horario</th>\n",
       "      <th>Tempo corrido</th>\n",
       "      <th>Tempo total de trabalho na Tarefa</th>\n",
       "    </tr>\n",
       "  </thead>\n",
       "  <tbody>\n",
       "    <tr>\n",
       "      <th>0</th>\n",
       "      <td>2024-01-03</td>\n",
       "      <td>35896004</td>\n",
       "      <td>Joao André Daibert de Navarro</td>\n",
       "      <td>Equipe 3</td>\n",
       "      <td>Check-in</td>\n",
       "      <td>15:12:59</td>\n",
       "      <td>-</td>\n",
       "      <td>-</td>\n",
       "    </tr>\n",
       "    <tr>\n",
       "      <th>1</th>\n",
       "      <td>2024-01-08</td>\n",
       "      <td>35896004</td>\n",
       "      <td>Joao André Daibert de Navarro</td>\n",
       "      <td>Equipe 3</td>\n",
       "      <td>Pausa - início</td>\n",
       "      <td>09:19:50</td>\n",
       "      <td>-</td>\n",
       "      <td>-</td>\n",
       "    </tr>\n",
       "    <tr>\n",
       "      <th>2</th>\n",
       "      <td>2024-01-08</td>\n",
       "      <td>37148275</td>\n",
       "      <td>Haras Alexandre Gribel</td>\n",
       "      <td>Equipe 1</td>\n",
       "      <td>Check-in</td>\n",
       "      <td>11:15:10</td>\n",
       "      <td>-</td>\n",
       "      <td>-</td>\n",
       "    </tr>\n",
       "    <tr>\n",
       "      <th>3</th>\n",
       "      <td>2024-01-08</td>\n",
       "      <td>37671467</td>\n",
       "      <td>Pedro Delgado de Paula</td>\n",
       "      <td>Equipe 2</td>\n",
       "      <td>Deslocamento</td>\n",
       "      <td>15:36:54</td>\n",
       "      <td>00:00:05</td>\n",
       "      <td>-</td>\n",
       "    </tr>\n",
       "    <tr>\n",
       "      <th>4</th>\n",
       "      <td>2024-01-08</td>\n",
       "      <td>37671467</td>\n",
       "      <td>Pedro Delgado de Paula</td>\n",
       "      <td>Equipe 2</td>\n",
       "      <td>Check-in</td>\n",
       "      <td>15:36:59</td>\n",
       "      <td>-</td>\n",
       "      <td>-</td>\n",
       "    </tr>\n",
       "  </tbody>\n",
       "</table>\n",
       "</div>"
      ],
      "text/plain": [
       "        Data    Tarefa                        Cliente Colaborador  \\\n",
       "0 2024-01-03  35896004  Joao André Daibert de Navarro    Equipe 3   \n",
       "1 2024-01-08  35896004  Joao André Daibert de Navarro    Equipe 3   \n",
       "2 2024-01-08  37148275         Haras Alexandre Gribel    Equipe 1   \n",
       "3 2024-01-08  37671467         Pedro Delgado de Paula    Equipe 2   \n",
       "4 2024-01-08  37671467         Pedro Delgado de Paula    Equipe 2   \n",
       "\n",
       "  Tipo de monitoramento   Horario Tempo corrido  \\\n",
       "0              Check-in  15:12:59             -   \n",
       "1        Pausa - início  09:19:50             -   \n",
       "2              Check-in  11:15:10             -   \n",
       "3          Deslocamento  15:36:54      00:00:05   \n",
       "4              Check-in  15:36:59             -   \n",
       "\n",
       "  Tempo total de trabalho na Tarefa  \n",
       "0                                 -  \n",
       "1                                 -  \n",
       "2                                 -  \n",
       "3                                 -  \n",
       "4                                 -  "
      ]
     },
     "execution_count": 5,
     "metadata": {},
     "output_type": "execute_result"
    }
   ],
   "source": [
    "auvo = pd.read_excel('auvo.xlsx',sheet_name='Sheet1')\n",
    "auvo.head()"
   ]
  },
  {
   "cell_type": "code",
   "execution_count": 6,
   "id": "c68225f8-a148-46d5-aaf0-f27087ee1463",
   "metadata": {},
   "outputs": [
    {
     "data": {
      "text/html": [
       "<div>\n",
       "<style scoped>\n",
       "    .dataframe tbody tr th:only-of-type {\n",
       "        vertical-align: middle;\n",
       "    }\n",
       "\n",
       "    .dataframe tbody tr th {\n",
       "        vertical-align: top;\n",
       "    }\n",
       "\n",
       "    .dataframe thead th {\n",
       "        text-align: right;\n",
       "    }\n",
       "</style>\n",
       "<table border=\"1\" class=\"dataframe\">\n",
       "  <thead>\n",
       "    <tr style=\"text-align: right;\">\n",
       "      <th></th>\n",
       "      <th>Ano Mês</th>\n",
       "      <th>taskID</th>\n",
       "      <th>Horas</th>\n",
       "    </tr>\n",
       "  </thead>\n",
       "  <tbody>\n",
       "    <tr>\n",
       "      <th>0</th>\n",
       "      <td>2024-01-01 00:00:00</td>\n",
       "      <td>33991083</td>\n",
       "      <td>6,15</td>\n",
       "    </tr>\n",
       "    <tr>\n",
       "      <th>1</th>\n",
       "      <td>2024-01-01 00:00:00</td>\n",
       "      <td>34596826</td>\n",
       "      <td>0,10</td>\n",
       "    </tr>\n",
       "    <tr>\n",
       "      <th>2</th>\n",
       "      <td>2024-01-01 00:00:00</td>\n",
       "      <td>35896004</td>\n",
       "      <td>0,00</td>\n",
       "    </tr>\n",
       "    <tr>\n",
       "      <th>3</th>\n",
       "      <td>2024-01-01 00:00:00</td>\n",
       "      <td>35962617</td>\n",
       "      <td>1,40</td>\n",
       "    </tr>\n",
       "    <tr>\n",
       "      <th>4</th>\n",
       "      <td>2024-01-01 00:00:00</td>\n",
       "      <td>36708437</td>\n",
       "      <td>1,51</td>\n",
       "    </tr>\n",
       "  </tbody>\n",
       "</table>\n",
       "</div>"
      ],
      "text/plain": [
       "               Ano Mês    taskID Horas\n",
       "0  2024-01-01 00:00:00  33991083  6,15\n",
       "1  2024-01-01 00:00:00  34596826  0,10\n",
       "2  2024-01-01 00:00:00  35896004  0,00\n",
       "3  2024-01-01 00:00:00  35962617  1,40\n",
       "4  2024-01-01 00:00:00  36708437  1,51"
      ]
     },
     "execution_count": 6,
     "metadata": {},
     "output_type": "execute_result"
    }
   ],
   "source": [
    "pbi = pd.read_excel('pbi.xlsx',sheet_name='Worksheet')\n",
    "pbi.head()"
   ]
  },
  {
   "cell_type": "code",
   "execution_count": 7,
   "id": "26571c59-5987-4614-87f7-c8352137ef36",
   "metadata": {},
   "outputs": [
    {
     "data": {
      "text/plain": [
       "0              00:00:00\n",
       "1              00:00:00\n",
       "2              00:00:00\n",
       "3              00:00:00\n",
       "4              00:00:00\n",
       "             ...       \n",
       "195            00:00:00\n",
       "196            00:00:00\n",
       "197            00:00:00\n",
       "198            00:00:00\n",
       "199    1 dia e 01:51:04\n",
       "Name: Tempo total de trabalho na Tarefa, Length: 200, dtype: object"
      ]
     },
     "execution_count": 7,
     "metadata": {},
     "output_type": "execute_result"
    }
   ],
   "source": [
    "# Removendo hífens\n",
    "auvo['Tempo total de trabalho na Tarefa'] = auvo['Tempo total de trabalho na Tarefa'].str.replace(\"-\", \"00:00:00\")\n",
    "tarefas = auvo['Tempo total de trabalho na Tarefa']\n",
    "tarefas"
   ]
  },
  {
   "cell_type": "code",
   "execution_count": 8,
   "id": "3c6bcf23-bc1d-4286-bf7a-7a95337bf5c8",
   "metadata": {},
   "outputs": [
    {
     "data": {
      "text/plain": [
       "0      00:00\n",
       "1      00:00\n",
       "2      00:00\n",
       "3      00:00\n",
       "4      00:00\n",
       "       ...  \n",
       "195    00:00\n",
       "196    00:00\n",
       "197    00:00\n",
       "198    00:00\n",
       "199    1 dia\n",
       "Name: horas, Length: 200, dtype: object"
      ]
     },
     "execution_count": 8,
     "metadata": {},
     "output_type": "execute_result"
    }
   ],
   "source": [
    "# Converte horas para decimal na base do Auvo\n",
    "auvo['horas'] = tarefas.str[:5].replace(\":\", \".\")\n",
    "auvo['horas']"
   ]
  },
  {
   "cell_type": "code",
   "execution_count": 23,
   "id": "2f789f9d-3dc8-4798-8376-3dea49f50d7c",
   "metadata": {},
   "outputs": [],
   "source": [
    "auvo['horas'] = auvo['horas'].str.replace(\":\", \".\")"
   ]
  },
  {
   "cell_type": "code",
   "execution_count": 25,
   "id": "b4c2d609-d7ae-433a-8439-8f6bcd3fb7a9",
   "metadata": {},
   "outputs": [
    {
     "data": {
      "text/plain": [
       "0     6.15\n",
       "1     0.10\n",
       "2     0.00\n",
       "3     1.40\n",
       "4     1.51\n",
       "      ... \n",
       "66    0.90\n",
       "67    0.11\n",
       "68    0.70\n",
       "69    0.00\n",
       "70    0.17\n",
       "Name: Horas, Length: 71, dtype: object"
      ]
     },
     "execution_count": 25,
     "metadata": {},
     "output_type": "execute_result"
    }
   ],
   "source": [
    "pbi.Horas = pbi.Horas.str.replace(\",\", \".\")\n",
    "pbi.Horas"
   ]
  },
  {
   "cell_type": "code",
   "execution_count": 65,
   "id": "c934c23a-aada-419e-829a-aed936826ed4",
   "metadata": {},
   "outputs": [],
   "source": [
    "auvo.loc[auvo['horas'].str.contains('dia', na=False)]\n",
    "# Substituindo dias por horas\n",
    "auvo.loc[auvo['Tarefa'] == '37690914'] = auvo['horas'] = 24.43\n",
    "auvo.loc[auvo['Tarefa'] == '37671467'] = auvo['horas'] = 95.41\n",
    "auvo.loc[auvo['Tarefa'] == '38664437'] = auvo['horas'] = 25.51"
   ]
  },
  {
   "cell_type": "code",
   "execution_count": 67,
   "id": "971e461d-40db-4b4b-aebe-df569ef8372b",
   "metadata": {},
   "outputs": [],
   "source": [
    "# Convertendo para float\n",
    "auvo['horas'] = auvo['horas'].astype(float)\n",
    "pbi.Horas = pbi.Horas.astype(float)"
   ]
  },
  {
   "cell_type": "code",
   "execution_count": 79,
   "id": "51d45f9b-931b-4ea0-b39d-f020605576dd",
   "metadata": {},
   "outputs": [],
   "source": [
    "import numpy as np"
   ]
  },
  {
   "cell_type": "code",
   "execution_count": 127,
   "id": "0752301a-8fce-4a62-b3b0-da231db65069",
   "metadata": {},
   "outputs": [],
   "source": [
    "auv = auvo.groupby('Tarefa')['horas'].sum()"
   ]
  },
  {
   "cell_type": "code",
   "execution_count": 147,
   "id": "9a26c646-7df9-4e3f-870e-8208c1f5ae9b",
   "metadata": {},
   "outputs": [
    {
     "name": "stdout",
     "output_type": "stream",
     "text": [
      "Auvo:  5101.999999999999 \n",
      "PBI:  229.33999999999997\n"
     ]
    }
   ],
   "source": [
    "# Comparando os dois\n",
    "auv = pd.DataFrame(auv)\n",
    "print(\"Auvo: \", np.sum(auv['horas']), \"\\nPBI: \", np.sum(pbi.Horas))"
   ]
  },
  {
   "cell_type": "code",
   "execution_count": 161,
   "id": "c4e41e8f-c7e3-44a0-9cec-ed1362c8c3d3",
   "metadata": {},
   "outputs": [],
   "source": [
    "from matplotlib import pyplot as plt"
   ]
  },
  {
   "cell_type": "code",
   "execution_count": 164,
   "id": "d6e81be2-b019-4024-a87c-1946f22e60ca",
   "metadata": {},
   "outputs": [
    {
     "data": {
      "text/plain": [
       "{'whiskers': [<matplotlib.lines.Line2D at 0x26fea5dcfb0>,\n",
       "  <matplotlib.lines.Line2D at 0x26fea6c6db0>],\n",
       " 'caps': [<matplotlib.lines.Line2D at 0x26fea6c7080>,\n",
       "  <matplotlib.lines.Line2D at 0x26fea6c73b0>],\n",
       " 'boxes': [<matplotlib.lines.Line2D at 0x26fe7e4e960>],\n",
       " 'medians': [<matplotlib.lines.Line2D at 0x26fea6c76e0>],\n",
       " 'fliers': [<matplotlib.lines.Line2D at 0x26fea6c79e0>],\n",
       " 'means': []}"
      ]
     },
     "execution_count": 164,
     "metadata": {},
     "output_type": "execute_result"
    },
    {
     "data": {
      "image/png": "[encoded data removed]",
      "text/plain": [
       "<Figure size 640x480 with 1 Axes>"
      ]
     },
     "metadata": {},
     "output_type": "display_data"
    }
   ],
   "source": [
    "plt.boxplot(auv.horas)"
   ]
  },
  {
   "cell_type": "code",
   "execution_count": 166,
   "id": "6eb7c5ee-0c98-4507-a6d9-3f525ab7ca04",
   "metadata": {},
   "outputs": [
    {
     "data": {
      "text/plain": [
       "{'whiskers': [<matplotlib.lines.Line2D at 0x26fea758290>,\n",
       "  <matplotlib.lines.Line2D at 0x26fea758560>],\n",
       " 'caps': [<matplotlib.lines.Line2D at 0x26fea758860>,\n",
       "  <matplotlib.lines.Line2D at 0x26fea758b00>],\n",
       " 'boxes': [<matplotlib.lines.Line2D at 0x26fea71ffb0>],\n",
       " 'medians': [<matplotlib.lines.Line2D at 0x26fea758cb0>],\n",
       " 'fliers': [<matplotlib.lines.Line2D at 0x26fea758f80>],\n",
       " 'means': []}"
      ]
     },
     "execution_count": 166,
     "metadata": {},
     "output_type": "execute_result"
    },
    {
     "data": {
      "image/png": "[encoded data removed]",
      "text/plain": [
       "<Figure size 640x480 with 1 Axes>"
      ]
     },
     "metadata": {},
     "output_type": "display_data"
    }
   ],
   "source": [
    "plt.boxplot(pbi.Horas)"
   ]
  },
  {
   "cell_type": "code",
   "execution_count": 180,
   "id": "7836213c-7da1-4765-ba61-353fac699c7c",
   "metadata": {},
   "outputs": [
    {
     "data": {
      "text/plain": [
       "Index(['horas'], dtype='object')"
      ]
     },
     "execution_count": 180,
     "metadata": {},
     "output_type": "execute_result"
    }
   ],
   "source": [
    "auv.columns"
   ]
  },
  {
   "cell_type": "code",
   "execution_count": null,
   "id": "b0f24620-af98-47f7-b28e-1064c4d3ca10",
   "metadata": {},
   "outputs": [],
   "source": []
  }
 ],
 "metadata": {
  "kernelspec": {
   "display_name": "Python 3 (ipykernel)",
   "language": "python",
   "name": "python3"
  },
  "language_info": {
   "codemirror_mode": {
    "name": "ipython",
    "version": 3
   },
   "file_extension": ".py",
   "mimetype": "text/x-python",
   "name": "python",
   "nbconvert_exporter": "python",
   "pygments_lexer": "ipython3",
   "version": "3.12.4"
  }
 },
 "nbformat": 4,
 "nbformat_minor": 5
}
