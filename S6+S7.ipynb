{
 "cells": [
  {
   "cell_type": "code",
   "execution_count": 38,
   "id": "c85b3be7-95d6-4a67-b4b1-b9a51e53476b",
   "metadata": {},
   "outputs": [],
   "source": [
    "cont = 0 # Declaração de variável"
   ]
  },
  {
   "cell_type": "code",
   "execution_count": 40,
   "id": "e394c858-5140-4b33-a56a-a1f7aad503ad",
   "metadata": {},
   "outputs": [
    {
     "data": {
      "text/plain": [
       "'\\ncomentário\\nmulti linhas\\n'"
      ]
     },
     "execution_count": 40,
     "metadata": {},
     "output_type": "execute_result"
    }
   ],
   "source": [
    "'''\n",
    "comentário\n",
    "multi linhas\n",
    "'''"
   ]
  },
  {
   "cell_type": "code",
   "execution_count": 42,
   "id": "fb2c12b7-e26c-457d-9a60-50284c82e6de",
   "metadata": {
    "scrolled": true
   },
   "outputs": [
    {
     "name": "stdout",
     "output_type": "stream",
     "text": [
      "0\n",
      "cont está no  1\n",
      "1\n",
      "cont está no  2\n",
      "2\n",
      "3\n",
      "4\n",
      "5\n",
      "6\n",
      "7\n",
      "8\n"
     ]
    }
   ],
   "source": [
    "while cont < 11:\n",
    "    if cont == 1:\n",
    "        print(\"cont está no \", cont)\n",
    "    elif cont == 2:\n",
    "        print(\"cont está no \", cont)\n",
    "    elif cont == 9:\n",
    "        break\n",
    "    else:\n",
    "        pass\n",
    "    print(cont)\n",
    "    cont += 1"
   ]
  },
  {
   "cell_type": "code",
   "execution_count": 15,
   "id": "b6a11816-876d-4825-809d-9244d0b483a7",
   "metadata": {},
   "outputs": [
    {
     "name": "stdout",
     "output_type": "stream",
     "text": [
      "0\n",
      "1\n",
      "2\n",
      "3\n",
      "4\n",
      "5\n",
      "6\n",
      "7\n",
      "8\n",
      "9\n"
     ]
    }
   ],
   "source": [
    "for x in range(0,10):\n",
    "    print(x)"
   ]
  },
  {
   "cell_type": "code",
   "execution_count": 17,
   "id": "9d226246-f06e-49b0-8f18-02684a02b14b",
   "metadata": {},
   "outputs": [],
   "source": [
    "list = [1,2,True,\"a\"] # list\n",
    "dct = {'banana', 5.5, 'uva', 8} # dict\n",
    "st = {1, 2, 3} # set\n",
    "tup = (1,2,3) # tuple"
   ]
  },
  {
   "cell_type": "code",
   "execution_count": 2,
   "id": "0cc7283b-6b66-430f-99c6-ce7c7f388679",
   "metadata": {},
   "outputs": [],
   "source": [
    "import numpy as np"
   ]
  },
  {
   "cell_type": "code",
   "execution_count": 4,
   "id": "6901883c-b199-4803-b87b-4d9ba0893f52",
   "metadata": {},
   "outputs": [],
   "source": [
    "lst = np.array([12,14,16])"
   ]
  },
  {
   "cell_type": "code",
   "execution_count": 8,
   "id": "9afa04a1-2341-44a3-a8c4-97939e785245",
   "metadata": {},
   "outputs": [
    {
     "name": "stdout",
     "output_type": "stream",
     "text": [
      "[12 14 16]\n",
      "int32\n"
     ]
    }
   ],
   "source": [
    "print(lst)\n",
    "print(lst.dtype)"
   ]
  },
  {
   "cell_type": "code",
   "execution_count": 16,
   "id": "0401909c-5190-471f-8ca1-bed952bf4aa2",
   "metadata": {},
   "outputs": [],
   "source": [
    "# Funcões\n",
    "def sum(x,y=0):\n",
    "    return x+y"
   ]
  },
  {
   "cell_type": "code",
   "execution_count": 18,
   "id": "7610c5b1-2059-42c9-9b0f-31b7d8249043",
   "metadata": {},
   "outputs": [
    {
     "name": "stdout",
     "output_type": "stream",
     "text": [
      "10\n"
     ]
    }
   ],
   "source": [
    "print(sum(5,5))"
   ]
  },
  {
   "cell_type": "code",
   "execution_count": 28,
   "id": "896535d9-c84d-4cf8-b30c-59ff31319fc3",
   "metadata": {},
   "outputs": [
    {
     "name": "stdin",
     "output_type": "stream",
     "text": [
      "informe um num:\n",
      " 2\n"
     ]
    },
    {
     "name": "stdout",
     "output_type": "stream",
     "text": [
      "<class 'str'>\n",
      "<class 'float'> 2.0\n"
     ]
    }
   ],
   "source": [
    "valor = input(\"informe um num:\\n\")\n",
    "print(type(valor))\n",
    "print(type(float(valor)), float(valor))"
   ]
  },
  {
   "cell_type": "code",
   "execution_count": 64,
   "id": "57ade2b5-a8db-412d-91e2-eb1015e50548",
   "metadata": {},
   "outputs": [
    {
     "name": "stdout",
     "output_type": "stream",
     "text": [
      "1\n",
      "2\n",
      "3\n",
      "4\n",
      "5\n",
      "6\n",
      "7\n",
      "8\n",
      "9\n",
      "10\n",
      "len ->  10\n"
     ]
    }
   ],
   "source": [
    "lst = list(range(0,10))\n",
    "\n",
    "for i in range(0, len(lst)):\n",
    "    print(lst[i] + 1)\n",
    "\n",
    "print(\"len -> \", len(lst))"
   ]
  },
  {
   "cell_type": "code",
   "execution_count": 10,
   "id": "7508ffef-c8df-445d-8a0b-066bd4e1f5a2",
   "metadata": {},
   "outputs": [
    {
     "name": "stdout",
     "output_type": "stream",
     "text": [
      "dict_keys(['a', 'b', 'c'])\n",
      "dict_values([1, 2, 3])\n",
      "1\n",
      "False\n"
     ]
    },
    {
     "ename": "AttributeError",
     "evalue": "'dict' object has no attribute 'add'",
     "output_type": "error",
     "traceback": [
      "\u001b[1;31m---------------------------------------------------------------------------\u001b[0m",
      "\u001b[1;31mAttributeError\u001b[0m                            Traceback (most recent call last)",
      "Cell \u001b[1;32mIn[10], line 9\u001b[0m\n\u001b[0;32m      7\u001b[0m \u001b[38;5;28mprint\u001b[39m(\u001b[38;5;124m'\u001b[39m\u001b[38;5;124ma\u001b[39m\u001b[38;5;124m'\u001b[39m \u001b[38;5;129;01min\u001b[39;00m dct)\n\u001b[0;32m      8\u001b[0m dct[\u001b[38;5;124m'\u001b[39m\u001b[38;5;124md\u001b[39m\u001b[38;5;124m'\u001b[39m] \u001b[38;5;241m=\u001b[39m \u001b[38;5;241m4\u001b[39m\n\u001b[1;32m----> 9\u001b[0m \u001b[43mdct\u001b[49m\u001b[38;5;241;43m.\u001b[39;49m\u001b[43madd\u001b[49m(\u001b[38;5;124m'\u001b[39m\u001b[38;5;124me\u001b[39m\u001b[38;5;124m'\u001b[39m)\n\u001b[0;32m     11\u001b[0m \u001b[38;5;28mprint\u001b[39m(dct)\n",
      "\u001b[1;31mAttributeError\u001b[0m: 'dict' object has no attribute 'add'"
     ]
    }
   ],
   "source": [
    "# Tudo dicionários\n",
    "dct = {'a': 1, 'b': 2, 'c': 3}\n",
    "print(dct.keys()) # pega as chaves do dict\n",
    "print(dct.values()) # pega os valores\n",
    "print(dct.get('a', \"não encontrado!\"))\n",
    "del dct['a']\n",
    "print('a' in dct)\n",
    "dct['d'] = 4"
   ]
  },
  {
   "cell_type": "code",
   "execution_count": 12,
   "id": "55c3fce1-6553-4bea-8cb6-20a3f4207614",
   "metadata": {},
   "outputs": [
    {
     "data": {
      "text/plain": [
       "{'a', 'b', 'c', 'd', 'e'}"
      ]
     },
     "execution_count": 12,
     "metadata": {},
     "output_type": "execute_result"
    }
   ],
   "source": [
    "# Tudo sets\n",
    "st = {'a', 'b', 'c', 'd'} # não pode repetir e é desordenado\n",
    "st.add('e')\n",
    "st"
   ]
  },
  {
   "cell_type": "code",
   "execution_count": 14,
   "id": "7e0c0016-99f8-43e2-b93c-245b73a71aae",
   "metadata": {},
   "outputs": [
    {
     "data": {
      "text/plain": [
       "(1, 2, True)"
      ]
     },
     "execution_count": 14,
     "metadata": {},
     "output_type": "execute_result"
    }
   ],
   "source": [
    "# Tupla\n",
    "tp = (1,2,True) # não pode alterar\n",
    "tp"
   ]
  }
 ],
 "metadata": {
  "kernelspec": {
   "display_name": "Python 3 (ipykernel)",
   "language": "python",
   "name": "python3"
  },
  "language_info": {
   "codemirror_mode": {
    "name": "ipython",
    "version": 3
   },
   "file_extension": ".py",
   "mimetype": "text/x-python",
   "name": "python",
   "nbconvert_exporter": "python",
   "pygments_lexer": "ipython3",
   "version": "3.12.4"
  }
 },
 "nbformat": 4,
 "nbformat_minor": 5
}
