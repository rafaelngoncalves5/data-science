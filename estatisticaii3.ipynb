{
 "cells": [
  {
   "cell_type": "code",
   "execution_count": 2,
   "id": "8d1bfada-05cd-4d1b-83f0-a5adb67cbedc",
   "metadata": {},
   "outputs": [],
   "source": [
    "# Distribuição Binomial\n",
    "from scipy.stats import binom"
   ]
  },
  {
   "cell_type": "code",
   "execution_count": 4,
   "id": "ffe7fb07-3206-4ac1-96e8-d1f5c8e7e7b2",
   "metadata": {},
   "outputs": [
    {
     "data": {
      "text/plain": [
       "0.31249999999999983"
      ]
     },
     "execution_count": 4,
     "metadata": {},
     "output_type": "execute_result"
    }
   ],
   "source": [
    "# Jogar uma moeda 5 vezes, qual a probabilidade de dar cara 3 vezes\n",
    "# Eventos, experimentos, probabilidades\n",
    "prob = binom.pmf(3,5,0.5)\n",
    "prob"
   ]
  },
  {
   "cell_type": "code",
   "execution_count": 6,
   "id": "7bc951b8-1de0-4c36-82c9-f9f66533285f",
   "metadata": {},
   "outputs": [
    {
     "data": {
      "text/plain": [
       "1.0000000000000002"
      ]
     },
     "execution_count": 6,
     "metadata": {},
     "output_type": "execute_result"
    }
   ],
   "source": [
    "# Passar por 4 sinais de 4 tempos, qual a probabilidade de pegar sinal verde\n",
    "# 0,1,2,3 ou 4 vezes seguidas\n",
    "binom.pmf(0,4,0.25) + binom.pmf(1,4,0.25) + binom.pmf(2,4,0.25) + binom.pmf(3,4,0.25) + binom.pmf(4,4,0.25)"
   ]
  },
  {
   "cell_type": "code",
   "execution_count": 8,
   "id": "1a5e4ea6-b402-45a8-ac9a-c51fcb562452",
   "metadata": {},
   "outputs": [
    {
     "data": {
      "text/plain": [
       "0.0625"
      ]
     },
     "execution_count": 8,
     "metadata": {},
     "output_type": "execute_result"
    }
   ],
   "source": [
    "# E se forem sinais de dois tempos\n",
    "binom.pmf(4,4,0.5)"
   ]
  },
  {
   "cell_type": "code",
   "execution_count": 10,
   "id": "f9796fd4-b4df-4693-9c8f-9f2bada6373c",
   "metadata": {},
   "outputs": [
    {
     "data": {
      "text/plain": [
       "1.0"
      ]
     },
     "execution_count": 10,
     "metadata": {},
     "output_type": "execute_result"
    }
   ],
   "source": [
    "# Probabilidade acumulativa\n",
    "binom.cdf(4,4,0.25)"
   ]
  },
  {
   "cell_type": "code",
   "execution_count": 16,
   "id": "1319b08a-8cc5-4ced-a031-f721b00ae515",
   "metadata": {},
   "outputs": [
    {
     "data": {
      "text/plain": [
       "1.1471271514892587"
      ]
     },
     "execution_count": 16,
     "metadata": {},
     "output_type": "execute_result"
    }
   ],
   "source": [
    "# Acertar 7 questões de 12\n",
    "binom.pmf(7,12,0.25) * 100"
   ]
  },
  {
   "cell_type": "code",
   "execution_count": 18,
   "id": "ca7f1f66-8ea4-49e2-83a4-8ba504827394",
   "metadata": {},
   "outputs": [
    {
     "data": {
      "text/plain": [
       "5.960464477539063e-08"
      ]
     },
     "execution_count": 18,
     "metadata": {},
     "output_type": "execute_result"
    }
   ],
   "source": [
    "# Acertar as 12 questões\n",
    "binom.pmf(12,12,0.25)"
   ]
  },
  {
   "cell_type": "code",
   "execution_count": null,
   "id": "11271c6c-4621-4006-a3f5-bf57d6241a3a",
   "metadata": {},
   "outputs": [],
   "source": []
  }
 ],
 "metadata": {
  "kernelspec": {
   "display_name": "Python 3 (ipykernel)",
   "language": "python",
   "name": "python3"
  },
  "language_info": {
   "codemirror_mode": {
    "name": "ipython",
    "version": 3
   },
   "file_extension": ".py",
   "mimetype": "text/x-python",
   "name": "python",
   "nbconvert_exporter": "python",
   "pygments_lexer": "ipython3",
   "version": "3.12.4"
  }
 },
 "nbformat": 4,
 "nbformat_minor": 5
}
