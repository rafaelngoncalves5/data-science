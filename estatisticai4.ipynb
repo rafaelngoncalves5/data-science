{
 "cells": [
  {
   "cell_type": "code",
   "execution_count": 2,
   "id": "41b7444f-7fc1-4e44-bda6-a0e27972430d",
   "metadata": {},
   "outputs": [],
   "source": [
    "# Medidas de centralidade e variabilidade\n",
    "import numpy as np\n",
    "from scipy import stats"
   ]
  },
  {
   "cell_type": "code",
   "execution_count": 4,
   "id": "54077b40-5000-4c50-a2ee-9cd32e5a5f60",
   "metadata": {},
   "outputs": [
    {
     "data": {
      "text/plain": [
       "16.11111111111111"
      ]
     },
     "execution_count": 4,
     "metadata": {},
     "output_type": "execute_result"
    }
   ],
   "source": [
    "jogadores = [4, 18, 12, 25, 30, 14, 30, 4, 8]\n",
    "# Média\n",
    "np.mean(jogadores)"
   ]
  },
  {
   "cell_type": "code",
   "execution_count": 6,
   "id": "b5b318ac-ec12-4bdc-818c-5b4aacc59e0a",
   "metadata": {},
   "outputs": [
    {
     "data": {
      "text/plain": [
       "14.0"
      ]
     },
     "execution_count": 6,
     "metadata": {},
     "output_type": "execute_result"
    }
   ],
   "source": [
    "# Mediana\n",
    "np.median(jogadores)"
   ]
  },
  {
   "cell_type": "code",
   "execution_count": 8,
   "id": "5fe802a3-3897-4c26-a3f5-7c8a297a85ea",
   "metadata": {},
   "outputs": [
    {
     "data": {
      "text/plain": [
       "array([ 4.,  8., 14., 25., 30.])"
      ]
     },
     "execution_count": 8,
     "metadata": {},
     "output_type": "execute_result"
    }
   ],
   "source": [
    "# Gerando quartis 0%, 25%, 50%, 75% e 100%\n",
    "quartis = np.quantile(jogadores, [0, 0.25, 0.5, 0.75, 1])\n",
    "quartis"
   ]
  },
  {
   "cell_type": "code",
   "execution_count": 10,
   "id": "a3d5d63c-d5e2-4e5e-b8db-905055d496db",
   "metadata": {},
   "outputs": [
    {
     "data": {
      "text/plain": [
       "10.30102476024163"
      ]
     },
     "execution_count": 10,
     "metadata": {},
     "output_type": "execute_result"
    }
   ],
   "source": [
    "# Desvio padrão\n",
    "np.std(jogadores, ddof = 1)"
   ]
  },
  {
   "cell_type": "code",
   "execution_count": 12,
   "id": "fbe0b390-d538-4ee7-a187-726b7171bfb7",
   "metadata": {},
   "outputs": [
    {
     "data": {
      "text/plain": [
       "DescribeResult(nobs=9, minmax=(4, 30), mean=16.11111111111111, variance=106.11111111111111, skewness=0.2307071910406795, kurtosis=-1.3971035607576545)"
      ]
     },
     "execution_count": 12,
     "metadata": {},
     "output_type": "execute_result"
    }
   ],
   "source": [
    "stats.describe(jogadores)"
   ]
  },
  {
   "cell_type": "code",
   "execution_count": null,
   "id": "a593f23c-5e9b-45b9-aa80-db9414b9cc3c",
   "metadata": {},
   "outputs": [],
   "source": []
  }
 ],
 "metadata": {
  "kernelspec": {
   "display_name": "Python 3 (ipykernel)",
   "language": "python",
   "name": "python3"
  },
  "language_info": {
   "codemirror_mode": {
    "name": "ipython",
    "version": 3
   },
   "file_extension": ".py",
   "mimetype": "text/x-python",
   "name": "python",
   "nbconvert_exporter": "python",
   "pygments_lexer": "ipython3",
   "version": "3.12.4"
  }
 },
 "nbformat": 4,
 "nbformat_minor": 5
}
