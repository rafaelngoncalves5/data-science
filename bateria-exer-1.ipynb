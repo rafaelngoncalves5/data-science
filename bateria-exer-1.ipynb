{
 "cells": [
  {
   "cell_type": "code",
   "execution_count": 80,
   "id": "2deaafd6-bbca-44fd-83ee-7b316298e30a",
   "metadata": {},
   "outputs": [],
   "source": [
    "# Resolução do exercício 1\n",
    "# A amplitude é a diferença entre o maior e o menor número de um conjunto de valores\n",
    "def amplitude(lista):\n",
    "    return max(lista) - min(lista)"
   ]
  },
  {
   "cell_type": "code",
   "execution_count": 82,
   "id": "71335648-3aad-45e8-9a5c-ae5887d16d90",
   "metadata": {},
   "outputs": [
    {
     "name": "stdout",
     "output_type": "stream",
     "text": [
      "9\n"
     ]
    }
   ],
   "source": [
    "print(amplitude([1,2,3,4,5,6,7,8,9,10]))"
   ]
  },
  {
   "cell_type": "code",
   "execution_count": 121,
   "id": "14a936fc-5c2b-4c96-bac7-52215237c5d8",
   "metadata": {},
   "outputs": [],
   "source": [
    "# Resolução exercício 2\n",
    "# range(start, stop, step)\n",
    "def reverse_string(string):\n",
    "    for letter in range(len(string) -1, -1, -1):\n",
    "        print(string[letter])"
   ]
  },
  {
   "cell_type": "code",
   "execution_count": 123,
   "id": "79680185-42b8-41e8-9863-41ae2f073c00",
   "metadata": {},
   "outputs": [
    {
     "name": "stdout",
     "output_type": "stream",
     "text": [
      "n\n",
      "o\n",
      "h\n",
      "t\n",
      "y\n",
      "p\n"
     ]
    }
   ],
   "source": [
    "reverse_string('python')"
   ]
  },
  {
   "cell_type": "code",
   "execution_count": 125,
   "id": "4d99107f-9309-495c-92a7-4c9bc638522e",
   "metadata": {},
   "outputs": [],
   "source": [
    "# Resolução exercício 3\n",
    "def checar_peso(peso):\n",
    "    if peso <= 10:\n",
    "        print(\"O valor será R$ 50,00!\")\n",
    "    elif peso >= 11 and peso <= 20:\n",
    "        print(\"O valor será R$ 80,00!\")\n",
    "    else:\n",
    "        print(\"Transporte não aceito!\")"
   ]
  },
  {
   "cell_type": "code",
   "execution_count": 127,
   "id": "df649f2d-67fd-422e-8cfb-4a5f2624c0fe",
   "metadata": {},
   "outputs": [
    {
     "name": "stdout",
     "output_type": "stream",
     "text": [
      "O valor será R$ 50,00!\n"
     ]
    }
   ],
   "source": [
    "checar_peso(10)"
   ]
  },
  {
   "cell_type": "code",
   "execution_count": 129,
   "id": "ad5e1867-05c7-491e-85d4-bdcbbd17db0e",
   "metadata": {},
   "outputs": [
    {
     "name": "stdout",
     "output_type": "stream",
     "text": [
      "O valor será R$ 80,00!\n"
     ]
    }
   ],
   "source": [
    "checar_peso(11)"
   ]
  },
  {
   "cell_type": "code",
   "execution_count": 131,
   "id": "cb759348-efa4-42ed-a13c-8bbcbce5a8f5",
   "metadata": {},
   "outputs": [
    {
     "name": "stdout",
     "output_type": "stream",
     "text": [
      "Transporte não aceito!\n"
     ]
    }
   ],
   "source": [
    "checar_peso(300)"
   ]
  },
  {
   "cell_type": "code",
   "execution_count": null,
   "id": "0e23a84d-1f5f-4466-a26f-e3446110ff6e",
   "metadata": {},
   "outputs": [],
   "source": []
  }
 ],
 "metadata": {
  "kernelspec": {
   "display_name": "Python 3 (ipykernel)",
   "language": "python",
   "name": "python3"
  },
  "language_info": {
   "codemirror_mode": {
    "name": "ipython",
    "version": 3
   },
   "file_extension": ".py",
   "mimetype": "text/x-python",
   "name": "python",
   "nbconvert_exporter": "python",
   "pygments_lexer": "ipython3",
   "version": "3.12.3"
  }
 },
 "nbformat": 4,
 "nbformat_minor": 5
}
