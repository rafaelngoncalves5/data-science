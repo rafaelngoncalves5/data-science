{
 "cells": [
  {
   "cell_type": "code",
   "execution_count": 7,
   "id": "b1ea103a-6a44-4380-af2b-ffd487341b4c",
   "metadata": {},
   "outputs": [],
   "source": [
    "import numpy as np"
   ]
  },
  {
   "cell_type": "code",
   "execution_count": 19,
   "id": "d9538b0c-2618-4ec4-9d79-1bde33d0d47e",
   "metadata": {},
   "outputs": [
    {
     "data": {
      "text/plain": [
       "array([1, 2, 3])"
      ]
     },
     "execution_count": 19,
     "metadata": {},
     "output_type": "execute_result"
    }
   ],
   "source": [
    "mt = np.array([1,2,3,4,5]) # Matriz unidimensional\n",
    "mt_float = np.array([1,2,3], dtype=np.float64) # Cria uma array com o tipo float\n",
    "mt_float\n",
    "mt_float.astype(np.int32) # Converte para int32"
   ]
  },
  {
   "cell_type": "code",
   "execution_count": 23,
   "id": "bc53c1d0-cf6c-41cd-8db2-c4212bfbd8d4",
   "metadata": {},
   "outputs": [
    {
     "data": {
      "text/plain": [
       "array([[3, 2, 1],\n",
       "       [1, 2, 3]])"
      ]
     },
     "execution_count": 23,
     "metadata": {},
     "output_type": "execute_result"
    }
   ],
   "source": [
    "mtb = np.array([[3,2,1], [1,2,3]]) # Array bidimensional\n",
    "mtb"
   ]
  },
  {
   "cell_type": "code",
   "execution_count": 41,
   "id": "439766f7-4734-4f78-ab7d-94401664d4e2",
   "metadata": {},
   "outputs": [
    {
     "data": {
      "text/plain": [
       "array([[1., 0., 0., 0., 0.],\n",
       "       [0., 1., 0., 0., 0.],\n",
       "       [0., 0., 1., 0., 0.],\n",
       "       [0., 0., 0., 1., 0.],\n",
       "       [0., 0., 0., 0., 1.]])"
      ]
     },
     "execution_count": 41,
     "metadata": {},
     "output_type": "execute_result"
    }
   ],
   "source": [
    "mtz = np.empty([3,2], dtype=int) # Array vazia tipificada\n",
    "mt0 = np.zeros([3,4]) # Matriz 3x4 de zeros\n",
    "\n",
    "t = np.ones([2,2]) # Matriz 2x2 de 1s\n",
    "e = np.eye(5)\n",
    "e # Matriz quadrada"
   ]
  },
  {
   "cell_type": "code",
   "execution_count": 51,
   "id": "5a6ba7ce-035c-4457-90c2-b833b7100390",
   "metadata": {},
   "outputs": [
    {
     "data": {
      "text/plain": [
       "array([[7.611672  , 6.33039722, 1.43511184, 7.86313154],\n",
       "       [3.19288191, 0.60924051, 4.02325025, 8.78884171],\n",
       "       [6.02295071, 6.07297762, 0.10697042, 3.62808322]])"
      ]
     },
     "execution_count": 51,
     "metadata": {},
     "output_type": "execute_result"
    }
   ],
   "source": [
    "mtr = np.random.random((5)) # Matriz aleatória com 5 valores\n",
    "i = np.random.randn((3))\n",
    "al = (10*np.random.random((3,4))) # Matriz 3x4 aleatória\n",
    "al"
   ]
  },
  {
   "cell_type": "code",
   "execution_count": 55,
   "id": "962bfc6a-ae7b-4e0e-9bc6-854683ef60b5",
   "metadata": {},
   "outputs": [
    {
     "data": {
      "text/plain": [
       "array([[8, 9, 2, 3],\n",
       "       [8, 4, 2, 8],\n",
       "       [2, 4, 6, 5]], dtype=int64)"
      ]
     },
     "execution_count": 55,
     "metadata": {},
     "output_type": "execute_result"
    }
   ],
   "source": [
    "# Sementes\n",
    "gnr = np.random.default_rng(1) # Semente 1\n",
    "ale5 = gnr.random(3)\n",
    "\n",
    "ale6 = gnr.integers(10, size=(3,4))\n",
    "ale6"
   ]
  },
  {
   "cell_type": "code",
   "execution_count": 67,
   "id": "a0f64f72-ca93-4ea8-bea5-f8327b531684",
   "metadata": {},
   "outputs": [
    {
     "name": "stdout",
     "output_type": "stream",
     "text": [
      "[1 2 3 4]\n"
     ]
    },
    {
     "data": {
      "text/plain": [
       "(3, 4)"
      ]
     },
     "execution_count": 67,
     "metadata": {},
     "output_type": "execute_result"
    }
   ],
   "source": [
    "j = np.array([1,1,2,3,4,4])\n",
    "j = np.unique(j) # Remove repetições\n",
    "print(j)\n",
    "al.shape # Mostra o formato da matriz"
   ]
  },
  {
   "cell_type": "code",
   "execution_count": 69,
   "id": "6874216c-2d73-4647-8ab1-f92bc347abe1",
   "metadata": {},
   "outputs": [
    {
     "name": "stdout",
     "output_type": "stream",
     "text": [
      "0.10697042475901752\n",
      "8.788841713947091\n",
      "55.68550895017247\n"
     ]
    }
   ],
   "source": [
    "# Funções matemáticas\n",
    "print(al.min())\n",
    "print(al.max())\n",
    "print(al.sum())\n",
    "# etc..."
   ]
  },
  {
   "cell_type": "code",
   "execution_count": 79,
   "id": "7b9bc5b9-1c00-4982-968d-30f173e07fa9",
   "metadata": {},
   "outputs": [
    {
     "name": "stdout",
     "output_type": "stream",
     "text": [
      "[[7.611672   6.33039722 1.43511184 7.86313154]\n",
      " [3.19288191 0.60924051 4.02325025 8.78884171]]\n",
      "[[6.02295071 6.07297762 0.10697042 3.62808322]]\n",
      "6.330397219576559\n",
      "[[3.19288191 0.60924051 4.02325025 8.78884171]\n",
      " [6.02295071 6.07297762 0.10697042 3.62808322]]\n",
      "[[7.611672   6.33039722 1.43511184 7.86313154]\n",
      " [3.19288191 0.60924051 4.02325025 8.78884171]\n",
      " [6.02295071 6.07297762 0.10697042 3.62808322]] [0]\n"
     ]
    }
   ],
   "source": [
    "# Slicers\n",
    "print(al[:-1])\n",
    "print(al[2:4])\n",
    "print(al[0][1])\n",
    "print(al[1:])\n",
    "print(al[:], [0]) # Pega todas as linhas e só a primeira coluna"
   ]
  },
  {
   "cell_type": "code",
   "execution_count": 81,
   "id": "1aea6be9-ca34-4e73-9f73-625de8e130b4",
   "metadata": {},
   "outputs": [
    {
     "data": {
      "text/plain": [
       "array([[15.223344  , 12.66079444,  2.87022367, 15.72626309],\n",
       "       [ 6.38576381,  1.21848103,  8.04650049, 17.57768343],\n",
       "       [12.04590143, 12.14595524,  0.21394085,  7.25616643]])"
      ]
     },
     "execution_count": 81,
     "metadata": {},
     "output_type": "execute_result"
    }
   ],
   "source": [
    "m = al + al # Soma duas matrizes\n",
    "m = al * al # Multiplicação etc...\n",
    "m"
   ]
  },
  {
   "cell_type": "code",
   "execution_count": 87,
   "id": "70277aa1-8364-4a23-8c50-bba9164f0937",
   "metadata": {},
   "outputs": [
    {
     "name": "stdout",
     "output_type": "stream",
     "text": [
      "[[ 0  1  2  3  4]\n",
      " [ 5  6  7  8  9]\n",
      " [10 11 12 13 14]]\n",
      "---\n",
      " [[ 0  5 10]\n",
      " [ 1  6 11]\n",
      " [ 2  7 12]\n",
      " [ 3  8 13]\n",
      " [ 4  9 14]]\n"
     ]
    }
   ],
   "source": [
    "# transposição, rearranja um conjunto de 15 elementos de 0 a 14\n",
    "# em 3 linhas e 5 colunas\n",
    "f = np.arange(15).reshape((3,5))\n",
    "print(f)\n",
    "s = f.T # Transposição linhas para colunas\n",
    "print(\"---\\n\",s)"
   ]
  },
  {
   "cell_type": "code",
   "execution_count": 89,
   "id": "66fe96ca-8209-4d54-ac1c-f3a00cf6729e",
   "metadata": {},
   "outputs": [
    {
     "name": "stdout",
     "output_type": "stream",
     "text": [
      "[[ 1.49647131 -1.31113322  1.1544087  -0.37313035]\n",
      " [-1.57033454  1.15988289 -0.81294476 -0.62076669]\n",
      " [-0.62616294  2.67258492  1.28019076  0.20425334]\n",
      " [ 0.30193078  1.47271025  0.41941043 -0.67267984]]\n",
      "[[ 1 -1  1 -1]\n",
      " [-1  1 -1 -1]\n",
      " [-1  1  1  1]\n",
      " [ 1  1  1 -1]]\n"
     ]
    }
   ],
   "source": [
    "# Expressões lógicas\n",
    "v = np.random.randn(4,4)\n",
    "print(v)\n",
    "# Matriz de booleanos\n",
    "x = (v>0)\n",
    "# Cria matriz com valores -1 e 1 baseado nos valores do array x\n",
    "z = np.where(x>0,1,-1)\n",
    "print(z)"
   ]
  },
  {
   "cell_type": "code",
   "execution_count": null,
   "id": "7d578e92-0420-4094-a4b6-27c73d89b5e0",
   "metadata": {},
   "outputs": [],
   "source": []
  }
 ],
 "metadata": {
  "kernelspec": {
   "display_name": "Python 3 (ipykernel)",
   "language": "python",
   "name": "python3"
  },
  "language_info": {
   "codemirror_mode": {
    "name": "ipython",
    "version": 3
   },
   "file_extension": ".py",
   "mimetype": "text/x-python",
   "name": "python",
   "nbconvert_exporter": "python",
   "pygments_lexer": "ipython3",
   "version": "3.12.4"
  }
 },
 "nbformat": 4,
 "nbformat_minor": 5
}
